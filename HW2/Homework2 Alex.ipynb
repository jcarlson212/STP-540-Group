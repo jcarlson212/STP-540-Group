{
 "cells": [
  {
   "cell_type": "code",
   "execution_count": 1,
   "id": "clear-district",
   "metadata": {},
   "outputs": [],
   "source": [
    "import numpy as np\n",
    "import scipy.linalg\n",
    "from sklearn.linear_model import LinearRegression\n",
    "import matplotlib.pyplot as plt\n",
    "import time "
   ]
  },
  {
   "cell_type": "code",
   "execution_count": 2,
   "id": "brilliant-wisdom",
   "metadata": {},
   "outputs": [],
   "source": [
    "# Best practice source:\n",
    "# https://numpy.org/doc/stable/reference/random/generated/numpy.random.seed.html\n",
    "from numpy.random import MT19937\n",
    "from numpy.random import RandomState, SeedSequence\n",
    "rs = RandomState(MT19937(SeedSequence(72730)))"
   ]
  },
  {
   "cell_type": "code",
   "execution_count": 3,
   "id": "authentic-basic",
   "metadata": {},
   "outputs": [],
   "source": [
    "# Generate simulated data \n",
    "# Must have rows > cols \n",
    "rows=100\n",
    "cols = 10\n",
    "sigma_true = .5\n",
    "x = np.random.normal(size=(rows, cols))\n",
    "beta_true = np.multiply(np.random.normal(size=cols), np.random.uniform(-6,6,cols))\n",
    "y = np.matmul(x, beta_true) + sigma_true*np.random.normal(size=rows)"
   ]
  },
  {
   "cell_type": "code",
   "execution_count": 4,
   "id": "common-butler",
   "metadata": {},
   "outputs": [
    {
     "name": "stdout",
     "output_type": "stream",
     "text": [
      "Dimensions of Q:  (100, 100)\n",
      "Dimensions of R:  (100, 10)\n"
     ]
    }
   ],
   "source": [
    "# Use scipy qr decomposition to solve for betas \n",
    "decomp = scipy.linalg.qr(x)\n",
    "print(\"Dimensions of Q: \", decomp[0].shape)\n",
    "print(\"Dimensions of R: \", decomp[1].shape)"
   ]
  },
  {
   "cell_type": "code",
   "execution_count": 5,
   "id": "worthy-payment",
   "metadata": {},
   "outputs": [
    {
     "name": "stdout",
     "output_type": "stream",
     "text": [
      "Q'Q:  [[ 1. -0.  0. ... -0.  0. -0.]\n",
      " [-0.  1. -0. ... -0.  0. -0.]\n",
      " [ 0. -0.  1. ... -0.  0. -0.]\n",
      " ...\n",
      " [-0. -0. -0. ...  1. -0.  0.]\n",
      " [ 0.  0.  0. ... -0.  1.  0.]\n",
      " [-0. -0. -0. ...  0.  0.  1.]]\n",
      "Det of Q:  1.0000000000000029\n"
     ]
    }
   ],
   "source": [
    "# Verify that Q is orthogonal \n",
    "print(\"Q'Q: \", np.matmul(decomp[0], decomp[0].T).round(10))\n",
    "print(\"Det of Q: \", scipy.linalg.det(decomp[0]))"
   ]
  },
  {
   "cell_type": "code",
   "execution_count": 6,
   "id": "nasty-story",
   "metadata": {},
   "outputs": [
    {
     "data": {
      "text/plain": [
       "True"
      ]
     },
     "execution_count": 6,
     "metadata": {},
     "output_type": "execute_result"
    }
   ],
   "source": [
    "# Verify that we can recover X \n",
    "np.allclose(np.dot(decomp[0], decomp[1]), x)"
   ]
  },
  {
   "cell_type": "code",
   "execution_count": 7,
   "id": "ongoing-pennsylvania",
   "metadata": {},
   "outputs": [],
   "source": [
    "# Solve for beta using R%*%Beta = Q^t%*%y \n",
    "qty = np.matmul(decomp[0].T, y.reshape(-1,1))\n",
    "# Need to use the linearly indepdentent part of R, corresponding QtY\n",
    "beta_hat = scipy.linalg.solve_triangular(decomp[1][:cols, :cols], qty[:cols])"
   ]
  },
  {
   "cell_type": "code",
   "execution_count": 8,
   "id": "eastern-consumption",
   "metadata": {},
   "outputs": [
    {
     "name": "stdout",
     "output_type": "stream",
     "text": [
      "Difference in Beta Hat vs Beta True:\n"
     ]
    },
    {
     "data": {
      "text/plain": [
       "array([[ 0.03062098],\n",
       "       [-0.01686938],\n",
       "       [-0.00668422],\n",
       "       [ 0.10214225],\n",
       "       [-0.02472997],\n",
       "       [-0.03930336],\n",
       "       [ 0.06000058],\n",
       "       [-0.0130657 ],\n",
       "       [-0.00876292],\n",
       "       [-0.01727208]])"
      ]
     },
     "execution_count": 8,
     "metadata": {},
     "output_type": "execute_result"
    }
   ],
   "source": [
    "# Verify that we're close to the true beta \n",
    "print(\"Difference in Beta Hat vs Beta True:\")\n",
    "np.subtract(beta_hat, np.reshape(beta_true, (-1,1)))"
   ]
  },
  {
   "cell_type": "code",
   "execution_count": 9,
   "id": "million-viking",
   "metadata": {},
   "outputs": [
    {
     "name": "stdout",
     "output_type": "stream",
     "text": [
      "Differences in sklearn vs backsolve: \n"
     ]
    },
    {
     "data": {
      "text/plain": [
       "array([[ 2.50484113e-03],\n",
       "       [-4.05947403e-03],\n",
       "       [ 1.86747191e-03],\n",
       "       [-3.68102959e-04],\n",
       "       [-1.77282626e-04],\n",
       "       [ 6.26297593e-04],\n",
       "       [ 2.80990643e-03],\n",
       "       [-1.11652546e-03],\n",
       "       [ 4.49906040e-05],\n",
       "       [ 8.06336569e-04]])"
      ]
     },
     "execution_count": 9,
     "metadata": {},
     "output_type": "execute_result"
    }
   ],
   "source": [
    "# Verify that we're close to the fitted beta from sklearn\n",
    "lfit = LinearRegression() #L2 reg is 1/C\n",
    "# need numpy 2dim array for X\n",
    "# X = x.reshape((n,1)).copy()\n",
    "lfit.fit(x,y)\n",
    "print(\"Differences in sklearn vs backsolve: \")\n",
    "np.subtract(beta_hat, np.reshape(lfit.coef_, (-1,1)))\n",
    "# Looking good! "
   ]
  },
  {
   "cell_type": "code",
   "execution_count": 10,
   "id": "subtle-boundary",
   "metadata": {},
   "outputs": [],
   "source": [
    "# Time the qr decomp as the size of a square matrix increases \n",
    "row_space = np.linspace(1, 2500, 2500, dtype=int)\n",
    "outputs = np.zeros(row_space.shape[0])\n",
    "for i in range(row_space.shape[0]):\n",
    "    n = row_space[i]\n",
    "    data = np.random.normal(size=(n,n))\n",
    "    start = time.time()\n",
    "    tmp = scipy.linalg.qr(data)\n",
    "    outputs[i] = time.time() - start"
   ]
  },
  {
   "cell_type": "code",
   "execution_count": 11,
   "id": "serious-change",
   "metadata": {},
   "outputs": [
    {
     "data": {
      "text/plain": [
       "Text(0.5, 1.0, 'Time to decompose an n x n matrix')"
      ]
     },
     "execution_count": 11,
     "metadata": {},
     "output_type": "execute_result"
    },
    {
     "data": {
      "image/png": "[encoded data removed]",
      "text/plain": [
       "<Figure size 432x288 with 1 Axes>"
      ]
     },
     "metadata": {
      "needs_background": "light"
     },
     "output_type": "display_data"
    }
   ],
   "source": [
    "plt.plot(row_space, outputs)\n",
    "plt.xlabel(\"n\")\n",
    "plt.ylabel(\"Seconds\")\n",
    "plt.title(\"Time to decompose an n x n matrix\")"
   ]
  },
  {
   "cell_type": "code",
   "execution_count": null,
   "id": "enabling-renaissance",
   "metadata": {},
   "outputs": [],
   "source": []
  }
 ],
 "metadata": {
  "kernelspec": {
   "display_name": "Python 3",
   "language": "python",
   "name": "python3"
  },
  "language_info": {
   "codemirror_mode": {
    "name": "ipython",
    "version": 3
   },
   "file_extension": ".py",
   "mimetype": "text/x-python",
   "name": "python",
   "nbconvert_exporter": "python",
   "pygments_lexer": "ipython3",
   "version": "3.9.1"
  }
 },
 "nbformat": 4,
 "nbformat_minor": 5
}
