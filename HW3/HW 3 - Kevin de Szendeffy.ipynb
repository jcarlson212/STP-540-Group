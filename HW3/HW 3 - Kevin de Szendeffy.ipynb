{
 "cells": [
  {
   "cell_type": "code",
   "execution_count": 1,
   "metadata": {},
   "outputs": [],
   "source": [
    "##################################################\n",
    "### imports\n",
    "import numpy as np\n",
    "import pandas as pd\n",
    "\n",
    "import matplotlib.pyplot as plt\n",
    "import seaborn; seaborn.set()\n",
    "\n",
    "import scipy as sp\n",
    "import scipy.stats as sps\n",
    "\n",
    "import math\n",
    "from time import time\n",
    "\n",
    "from sklearn.linear_model import LinearRegression\n",
    "import statsmodels.api as sm\n",
    "\n",
    "import itertools"
   ]
  },
  {
   "cell_type": "markdown",
   "metadata": {},
   "source": [
    "# Problem 1"
   ]
  },
  {
   "cell_type": "code",
   "execution_count": 2,
   "metadata": {},
   "outputs": [],
   "source": [
    "p = 5\n",
    "rho = 0.8\n",
    "Sigma = np.full((p,p), rho)+(-rho+1)*np.eye(p)"
   ]
  },
  {
   "cell_type": "code",
   "execution_count": 3,
   "metadata": {
    "scrolled": false
   },
   "outputs": [
    {
     "data": {
      "text/plain": [
       "array([[1. , 0.8, 0.8, 0.8, 0.8],\n",
       "       [0.8, 1. , 0.8, 0.8, 0.8],\n",
       "       [0.8, 0.8, 1. , 0.8, 0.8],\n",
       "       [0.8, 0.8, 0.8, 1. , 0.8],\n",
       "       [0.8, 0.8, 0.8, 0.8, 1. ]])"
      ]
     },
     "execution_count": 3,
     "metadata": {},
     "output_type": "execute_result"
    }
   ],
   "source": [
    "Sigma"
   ]
  },
  {
   "cell_type": "code",
   "execution_count": 4,
   "metadata": {},
   "outputs": [],
   "source": [
    "L = np.linalg.cholesky(Sigma)"
   ]
  },
  {
   "cell_type": "code",
   "execution_count": 5,
   "metadata": {},
   "outputs": [
    {
     "data": {
      "text/plain": [
       "array([[1.        , 0.        , 0.        , 0.        , 0.        ],\n",
       "       [0.8       , 0.6       , 0.        , 0.        , 0.        ],\n",
       "       [0.8       , 0.26666667, 0.53748385, 0.        , 0.        ],\n",
       "       [0.8       , 0.26666667, 0.16537965, 0.51140831, 0.        ],\n",
       "       [0.8       , 0.26666667, 0.16537965, 0.12033137, 0.49705012]])"
      ]
     },
     "execution_count": 5,
     "metadata": {},
     "output_type": "execute_result"
    }
   ],
   "source": [
    "L"
   ]
  },
  {
   "cell_type": "code",
   "execution_count": 6,
   "metadata": {},
   "outputs": [],
   "source": [
    "L1 = L[0:2, 0:2]"
   ]
  },
  {
   "cell_type": "markdown",
   "metadata": {},
   "source": [
    "### a) $(Y_1, Y_2)$ ~ $N((0, 0), \\Sigma_{12})$ where $\\Sigma_{12}$ is"
   ]
  },
  {
   "cell_type": "code",
   "execution_count": 7,
   "metadata": {
    "scrolled": true
   },
   "outputs": [
    {
     "data": {
      "text/plain": [
       "array([[1. , 0.8],\n",
       "       [0.8, 1. ]])"
      ]
     },
     "execution_count": 7,
     "metadata": {},
     "output_type": "execute_result"
    }
   ],
   "source": [
    "L1@np.transpose(L1)"
   ]
  },
  {
   "cell_type": "markdown",
   "metadata": {},
   "source": [
    "### b) "
   ]
  },
  {
   "cell_type": "code",
   "execution_count": 8,
   "metadata": {},
   "outputs": [],
   "source": [
    "x = np.transpose([0.23, -0.65, -0.3])"
   ]
  },
  {
   "cell_type": "markdown",
   "metadata": {},
   "source": [
    "First, we note it is equivalent to find the conditional distribution of $(Y_4, Y_5)$ given $Y_1 = 0.23, \\, Y_2 = -0.65,$ and $Y_3 = -0.3$. Then we define $L_1$, $A$, and $L_2$ as follows."
   ]
  },
  {
   "cell_type": "code",
   "execution_count": 9,
   "metadata": {},
   "outputs": [],
   "source": [
    "L1 = L[0:3, 0:3]\n",
    "L2 = L[3:5, 3:5]\n",
    "A = L[3:5, 0:3]"
   ]
  },
  {
   "cell_type": "markdown",
   "metadata": {},
   "source": [
    "Thus the conditional distribution of $(Y_4, Y_5)$ given $Y_1 = 0.23, \\, Y_2 = -0.65,$ and $Y_3 = -0.3$ is $N(\\mu_{45|123}, \\Sigma_{45|123})$ where $\\mu_{45|123}$ is"
   ]
  },
  {
   "cell_type": "code",
   "execution_count": 10,
   "metadata": {},
   "outputs": [
    {
     "data": {
      "text/plain": [
       "array([-0.22153846, -0.22153846])"
      ]
     },
     "execution_count": 10,
     "metadata": {},
     "output_type": "execute_result"
    }
   ],
   "source": [
    "A@np.linalg.inv(L1)@x"
   ]
  },
  {
   "cell_type": "markdown",
   "metadata": {},
   "source": [
    "and $\\Sigma_{45|123})$ is"
   ]
  },
  {
   "cell_type": "code",
   "execution_count": 11,
   "metadata": {},
   "outputs": [
    {
     "data": {
      "text/plain": [
       "array([[0.26153846, 0.06153846],\n",
       "       [0.06153846, 0.26153846]])"
      ]
     },
     "execution_count": 11,
     "metadata": {},
     "output_type": "execute_result"
    }
   ],
   "source": [
    "L2@np.transpose(L2)"
   ]
  },
  {
   "cell_type": "markdown",
   "metadata": {},
   "source": [
    "### c) L in $\\Sigma = LL'$ is"
   ]
  },
  {
   "cell_type": "code",
   "execution_count": 12,
   "metadata": {},
   "outputs": [
    {
     "data": {
      "text/plain": [
       "array([[1.        , 0.        , 0.        , 0.        , 0.        ],\n",
       "       [0.8       , 0.6       , 0.        , 0.        , 0.        ],\n",
       "       [0.8       , 0.26666667, 0.53748385, 0.        , 0.        ],\n",
       "       [0.8       , 0.26666667, 0.16537965, 0.51140831, 0.        ],\n",
       "       [0.8       , 0.26666667, 0.16537965, 0.12033137, 0.49705012]])"
      ]
     },
     "execution_count": 12,
     "metadata": {},
     "output_type": "execute_result"
    }
   ],
   "source": [
    "L"
   ]
  },
  {
   "cell_type": "markdown",
   "metadata": {},
   "source": [
    "### d) $L^{-1}$ is"
   ]
  },
  {
   "cell_type": "code",
   "execution_count": 13,
   "metadata": {},
   "outputs": [
    {
     "data": {
      "text/plain": [
       "array([[ 1.        ,  0.        ,  0.        ,  0.        ,  0.        ],\n",
       "       [-1.33333333,  1.66666667,  0.        ,  0.        ,  0.        ],\n",
       "       [-0.82689823, -0.82689823,  1.86052102,  0.        ,  0.        ],\n",
       "       [-0.60165684, -0.60165684, -0.60165684,  1.95538472,  0.        ],\n",
       "       [-0.47338107, -0.47338107, -0.47338107, -0.47338107,  2.01186954]])"
      ]
     },
     "execution_count": 13,
     "metadata": {},
     "output_type": "execute_result"
    }
   ],
   "source": [
    "np.linalg.inv(L)"
   ]
  },
  {
   "cell_type": "markdown",
   "metadata": {},
   "source": [
    "### e) $A = PD^{\\frac{1}{2}}$"
   ]
  },
  {
   "cell_type": "code",
   "execution_count": 14,
   "metadata": {},
   "outputs": [],
   "source": [
    "ev, P = np.linalg.eigh(Sigma)"
   ]
  },
  {
   "cell_type": "code",
   "execution_count": 15,
   "metadata": {},
   "outputs": [],
   "source": [
    "D = np.diag(ev)"
   ]
  },
  {
   "cell_type": "code",
   "execution_count": 16,
   "metadata": {},
   "outputs": [
    {
     "data": {
      "text/plain": [
       "array([[ 3.20020123e-01,  0.00000000e+00,  0.00000000e+00,\n",
       "         2.39973167e-01,  9.16515139e-01],\n",
       "       [-3.12358051e-01,  0.00000000e+00, -5.58570184e-17,\n",
       "         2.49864860e-01,  9.16515139e-01],\n",
       "       [-2.55402400e-03,  0.00000000e+00,  3.65148372e-01,\n",
       "        -1.63279342e-01,  9.16515139e-01],\n",
       "       [-2.55402400e-03, -3.16227766e-01, -1.82574186e-01,\n",
       "        -1.63279342e-01,  9.16515139e-01],\n",
       "       [-2.55402400e-03,  3.16227766e-01, -1.82574186e-01,\n",
       "        -1.63279342e-01,  9.16515139e-01]])"
      ]
     },
     "execution_count": 16,
     "metadata": {},
     "output_type": "execute_result"
    }
   ],
   "source": [
    "P@np.sqrt(D)"
   ]
  },
  {
   "cell_type": "markdown",
   "metadata": {},
   "source": [
    "### f)"
   ]
  },
  {
   "cell_type": "code",
   "execution_count": 17,
   "metadata": {},
   "outputs": [],
   "source": [
    "ysim = L @ np.random.normal(size=(5, 10000))\n",
    "df = pd.DataFrame(ysim).T\n",
    "ybar = df.apply(np.mean, axis=0).values"
   ]
  },
  {
   "cell_type": "code",
   "execution_count": 18,
   "metadata": {},
   "outputs": [],
   "source": [
    "sigmahat = np.zeros(Sigma.shape)\n",
    "for i, r in df.iterrows():\n",
    "    hold = (r.values-ybar)[:, np.newaxis]\n",
    "    sigmahat += hold @ hold.T\n",
    "sigmahat/= df.shape[0]"
   ]
  },
  {
   "cell_type": "code",
   "execution_count": 19,
   "metadata": {
    "scrolled": true
   },
   "outputs": [
    {
     "name": "stdout",
     "output_type": "stream",
     "text": [
      "[0.0096619  0.00767152 0.00338953 0.00290112 0.00266758]\n",
      "[[0.99358867 0.80595063 0.80931672 0.79806052 0.80461073]\n",
      " [0.80595063 1.01499931 0.8164054  0.80298267 0.81187738]\n",
      " [0.80931672 0.8164054  1.01646978 0.81051097 0.81420219]\n",
      " [0.79806052 0.80298267 0.81051097 1.00016302 0.80852963]\n",
      " [0.80461073 0.81187738 0.81420219 0.80852963 1.01087406]]\n"
     ]
    }
   ],
   "source": [
    "print(ybar)\n",
    "print(sigmahat)"
   ]
  },
  {
   "cell_type": "code",
   "execution_count": 20,
   "metadata": {},
   "outputs": [
    {
     "name": "stdout",
     "output_type": "stream",
     "text": [
      "n =  10000\n",
      "Mu diff:  0.013387528088009627\n",
      "Sigma diff:  0.05057825761213993\n"
     ]
    }
   ],
   "source": [
    "mu_diff = np.linalg.norm(ybar-np.zeros(p))\n",
    "sigma_diff = np.linalg.norm(sigmahat - Sigma)\n",
    "print(\"n = \", 10000)\n",
    "print(\"Mu diff: \", mu_diff)\n",
    "print(\"Sigma diff: \", sigma_diff)"
   ]
  },
  {
   "cell_type": "markdown",
   "metadata": {},
   "source": [
    "### g)"
   ]
  },
  {
   "cell_type": "code",
   "execution_count": 21,
   "metadata": {},
   "outputs": [
    {
     "name": "stdout",
     "output_type": "stream",
     "text": [
      "n =  50\n",
      "Mu diff:  0.20541184830511416\n",
      "Sigma diff:  1.0208336116865688\n"
     ]
    }
   ],
   "source": [
    "ysim = L @ np.random.normal(size=(5, 50))\n",
    "df = pd.DataFrame(ysim).T\n",
    "ybar = df.apply(np.mean, axis=0).values\n",
    "sigmahat = np.zeros(Sigma.shape)\n",
    "for i, r in df.iterrows():\n",
    "    hold = (r.values-ybar)[:, np.newaxis]\n",
    "    sigmahat += hold @ hold.T\n",
    "sigmahat/= df.shape[0]\n",
    "mu_diff = np.linalg.norm(ybar-np.zeros(p))\n",
    "sigma_diff = np.linalg.norm(sigmahat - Sigma)\n",
    "print(\"n = \", 50)\n",
    "print(\"Mu diff: \", mu_diff)\n",
    "print(\"Sigma diff: \", sigma_diff)"
   ]
  },
  {
   "cell_type": "markdown",
   "metadata": {},
   "source": [
    "# Problem 3"
   ]
  },
  {
   "cell_type": "code",
   "execution_count": 22,
   "metadata": {},
   "outputs": [],
   "source": [
    "x = np.linspace(-2, 2, 100)\n",
    "fx = x**3\n",
    "Io = list(range(75))\n",
    "Io.extend(list(range(86, 100)))\n",
    "Iu = list(range(76, 86))\n",
    "X = x[Io]"
   ]
  },
  {
   "cell_type": "code",
   "execution_count": 23,
   "metadata": {},
   "outputs": [],
   "source": [
    "sigf = 0.1\n",
    "l = 0.1"
   ]
  },
  {
   "cell_type": "code",
   "execution_count": 24,
   "metadata": {},
   "outputs": [],
   "source": [
    "Sigma = np.zeros([100, 100])"
   ]
  },
  {
   "cell_type": "code",
   "execution_count": 25,
   "metadata": {},
   "outputs": [],
   "source": [
    "for i in range(100):\n",
    "    for j in range(100):\n",
    "        Sigma[i, j] = (sigf**2)*np.exp(-1/(2*l**2)*(x[i]-x[j])**2)"
   ]
  },
  {
   "cell_type": "code",
   "execution_count": 26,
   "metadata": {},
   "outputs": [
    {
     "data": {
      "text/plain": [
       "array([[1.00000000e-002, 9.21618123e-003, 7.21446326e-003, ...,\n",
       "        0.00000000e+000, 0.00000000e+000, 0.00000000e+000],\n",
       "       [9.21618123e-003, 1.00000000e-002, 9.21618123e-003, ...,\n",
       "        0.00000000e+000, 0.00000000e+000, 0.00000000e+000],\n",
       "       [7.21446326e-003, 9.21618123e-003, 1.00000000e-002, ...,\n",
       "        1.18575755e-322, 0.00000000e+000, 0.00000000e+000],\n",
       "       ...,\n",
       "       [0.00000000e+000, 0.00000000e+000, 1.18575755e-322, ...,\n",
       "        1.00000000e-002, 9.21618123e-003, 7.21446326e-003],\n",
       "       [0.00000000e+000, 0.00000000e+000, 0.00000000e+000, ...,\n",
       "        9.21618123e-003, 1.00000000e-002, 9.21618123e-003],\n",
       "       [0.00000000e+000, 0.00000000e+000, 0.00000000e+000, ...,\n",
       "        7.21446326e-003, 9.21618123e-003, 1.00000000e-002]])"
      ]
     },
     "execution_count": 26,
     "metadata": {},
     "output_type": "execute_result"
    }
   ],
   "source": [
    "Sigma"
   ]
  },
  {
   "cell_type": "code",
   "execution_count": 27,
   "metadata": {},
   "outputs": [],
   "source": [
    "sigxx = Sigma[Io, :][:, Io]\n",
    "sigyy = Sigma[Iu, :][:, Iu]\n",
    "sigxy = Sigma[Io, :][:, Iu]\n",
    "sigyx = np.transpose(sigxy)"
   ]
  },
  {
   "cell_type": "code",
   "execution_count": 28,
   "metadata": {},
   "outputs": [],
   "source": [
    "mu_y = sigyx@np.linalg.inv(sigxx)@fx[Io]\n",
    "sig_y = sigyy - np.linalg.multi_dot([sigyx, np.linalg.inv(sigxx), sigxy])"
   ]
  },
  {
   "cell_type": "code",
   "execution_count": 29,
   "metadata": {},
   "outputs": [
    {
     "name": "stderr",
     "output_type": "stream",
     "text": [
      "<ipython-input-29-e7bda8616836>:1: RuntimeWarning: covariance is not positive-semidefinite.\n",
      "  sample = np.random.multivariate_normal(mu_y, sig_y, 1000)\n"
     ]
    }
   ],
   "source": [
    "sample = np.random.multivariate_normal(mu_y, sig_y, 1000)\n",
    "y = np.mean(sample, axis = 0)"
   ]
  },
  {
   "cell_type": "code",
   "execution_count": 30,
   "metadata": {},
   "outputs": [
    {
     "data": {
      "text/plain": [
       "array([1.14823311, 1.09979373, 0.92636519, 0.72902555, 0.67512681,\n",
       "       0.89091209, 1.37456763, 1.98331579, 2.52786137, 2.91890331])"
      ]
     },
     "execution_count": 30,
     "metadata": {},
     "output_type": "execute_result"
    }
   ],
   "source": [
    "y"
   ]
  },
  {
   "cell_type": "code",
   "execution_count": 31,
   "metadata": {
    "scrolled": true
   },
   "outputs": [
    {
     "data": {
      "text/plain": [
       "<matplotlib.collections.PathCollection at 0x243a2a075b0>"
      ]
     },
     "execution_count": 31,
     "metadata": {},
     "output_type": "execute_result"
    },
    {
     "data": {
      "image/png": "[encoded data removed]",
      "text/plain": [
       "<Figure size 432x288 with 1 Axes>"
      ]
     },
     "metadata": {},
     "output_type": "display_data"
    }
   ],
   "source": [
    "plt.scatter(x[Io], fx[Io])\n",
    "plt.scatter(x[Iu], y)"
   ]
  },
  {
   "cell_type": "code",
   "execution_count": 32,
   "metadata": {},
   "outputs": [
    {
     "data": {
      "text/plain": [
       "2.2899929886872075"
      ]
     },
     "execution_count": 32,
     "metadata": {},
     "output_type": "execute_result"
    }
   ],
   "source": [
    "np.linalg.norm(y-fx[Iu])"
   ]
  }
 ],
 "metadata": {
  "kernelspec": {
   "display_name": "Python 3",
   "language": "python",
   "name": "python3"
  },
  "language_info": {
   "codemirror_mode": {
    "name": "ipython",
    "version": 3
   },
   "file_extension": ".py",
   "mimetype": "text/x-python",
   "name": "python",
   "nbconvert_exporter": "python",
   "pygments_lexer": "ipython3",
   "version": "3.8.5"
  }
 },
 "nbformat": 4,
 "nbformat_minor": 4
}
