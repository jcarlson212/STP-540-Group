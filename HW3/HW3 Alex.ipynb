{
 "cells": [
  {
   "cell_type": "code",
   "execution_count": 1,
   "id": "computational-adaptation",
   "metadata": {},
   "outputs": [],
   "source": [
    "import numpy as np\n",
    "from numpy import linalg as LA\n",
    "import pandas as pd \n",
    "from IPython.display import display, Math\n",
    "from scipy.spatial import distance \n",
    "import matplotlib.pyplot as plt\n",
    "%matplotlib inline"
   ]
  },
  {
   "cell_type": "code",
   "execution_count": 2,
   "id": "collective-yacht",
   "metadata": {},
   "outputs": [],
   "source": [
    "# Best practice source:\n",
    "# https://numpy.org/doc/stable/reference/random/generated/numpy.random.seed.html\n",
    "from numpy.random import MT19937\n",
    "from numpy.random import RandomState, SeedSequence\n",
    "rs = RandomState(MT19937(SeedSequence(72730)))"
   ]
  },
  {
   "cell_type": "code",
   "execution_count": 3,
   "id": "manufactured-uniform",
   "metadata": {},
   "outputs": [
    {
     "name": "stdout",
     "output_type": "stream",
     "text": [
      "[[1.  0.8 0.8 0.8 0.8]\n",
      " [0.8 1.  0.8 0.8 0.8]\n",
      " [0.8 0.8 1.  0.8 0.8]\n",
      " [0.8 0.8 0.8 1.  0.8]\n",
      " [0.8 0.8 0.8 0.8 1. ]]\n"
     ]
    }
   ],
   "source": [
    "p = 5\n",
    "rho = .8\n",
    "Sigma = np.full((p, p), rho)\n",
    "np.fill_diagonal(Sigma, 1)\n",
    "print(Sigma)"
   ]
  },
  {
   "cell_type": "markdown",
   "id": "mathematical-compatibility",
   "metadata": {},
   "source": [
    "A) The marginal distribution of $(Y_1, Y_2)$ is MVN with $\\mu = (0, 0)'$ and $\\Sigma =$"
   ]
  },
  {
   "cell_type": "code",
   "execution_count": 4,
   "id": "finished-virtue",
   "metadata": {},
   "outputs": [
    {
     "name": "stdout",
     "output_type": "stream",
     "text": [
      "[[1.  0.8]\n",
      " [0.8 1. ]]\n"
     ]
    }
   ],
   "source": [
    "print(Sigma[:2, :2])"
   ]
  },
  {
   "cell_type": "markdown",
   "id": "massive-universal",
   "metadata": {},
   "source": [
    "B) The conditional distribution of $(Y_1, Y_2)|Y_3, Y_4, Y_5$ is MVN. We calculate the mean $\\bar\\mu$ and covariance matrix $\\bar\\Sigma$ of this distribution below: "
   ]
  },
  {
   "cell_type": "code",
   "execution_count": 5,
   "id": "executive-union",
   "metadata": {},
   "outputs": [
    {
     "data": {
      "text/latex": [
       "$\\displaystyle \\bar\\mu :$"
      ],
      "text/plain": [
       "<IPython.core.display.Math object>"
      ]
     },
     "metadata": {},
     "output_type": "display_data"
    },
    {
     "name": "stdout",
     "output_type": "stream",
     "text": [
      "[-0.22153846 -0.22153846]\n"
     ]
    },
    {
     "data": {
      "text/latex": [
       "$\\displaystyle \\bar\\Sigma :$"
      ],
      "text/plain": [
       "<IPython.core.display.Math object>"
      ]
     },
     "metadata": {},
     "output_type": "display_data"
    },
    {
     "name": "stdout",
     "output_type": "stream",
     "text": [
      "[[0.26153846 0.06153846]\n",
      " [0.06153846 0.26153846]]\n"
     ]
    }
   ],
   "source": [
    "mu1 = np.array([0, 0])\n",
    "mu2 = np.array([0, 0, 0])\n",
    "givens = np.array([0.23, -0.65, -0.3])\n",
    "sig22inv = LA.inv(Sigma[-3:, -3:])\n",
    "mubar = mu1 + LA.multi_dot([Sigma[:2, -3:], sig22inv, givens])\n",
    "display(Math(r'\\bar\\mu :'))\n",
    "print(mubar)\n",
    "sigbar = Sigma[:2, :2] - LA.multi_dot([Sigma[:2, -3:], sig22inv, Sigma[-3:, :2]])\n",
    "display(Math(r'\\bar\\Sigma :'))\n",
    "print(sigbar)"
   ]
  },
  {
   "cell_type": "markdown",
   "id": "identical-format",
   "metadata": {},
   "source": [
    "C) The $L$ in $\\Sigma = LL'$ comes from the Cholesky decomposition of $\\Sigma$. It is one varaition on the square root of $\\Sigma$. In this example, $L$ is: "
   ]
  },
  {
   "cell_type": "code",
   "execution_count": 6,
   "id": "exciting-plant",
   "metadata": {},
   "outputs": [
    {
     "name": "stdout",
     "output_type": "stream",
     "text": [
      "[[1.         0.         0.         0.         0.        ]\n",
      " [0.8        0.6        0.         0.         0.        ]\n",
      " [0.8        0.26666667 0.53748385 0.         0.        ]\n",
      " [0.8        0.26666667 0.16537965 0.51140831 0.        ]\n",
      " [0.8        0.26666667 0.16537965 0.12033137 0.49705012]]\n"
     ]
    }
   ],
   "source": [
    "choleskyL = LA.cholesky(Sigma)\n",
    "print(choleskyL)"
   ]
  },
  {
   "cell_type": "markdown",
   "id": "exposed-wildlife",
   "metadata": {},
   "source": [
    "D) $L^{-1}$ is: "
   ]
  },
  {
   "cell_type": "code",
   "execution_count": 7,
   "id": "mexican-turner",
   "metadata": {},
   "outputs": [
    {
     "name": "stdout",
     "output_type": "stream",
     "text": [
      "[[ 1.          0.          0.          0.          0.        ]\n",
      " [-1.33333333  1.66666667  0.          0.          0.        ]\n",
      " [-0.82689823 -0.82689823  1.86052102  0.          0.        ]\n",
      " [-0.60165684 -0.60165684 -0.60165684  1.95538472  0.        ]\n",
      " [-0.47338107 -0.47338107 -0.47338107 -0.47338107  2.01186954]]\n"
     ]
    }
   ],
   "source": [
    "print(LA.inv(choleskyL))"
   ]
  },
  {
   "cell_type": "markdown",
   "id": "textile-glory",
   "metadata": {},
   "source": [
    "E) The $A$ in $A = PD^{1/2}$ is from the spectral/eigen decomposition of $\\Sigma$. It is another variation on the square root of $\\Sigma$. In this example, A is:"
   ]
  },
  {
   "cell_type": "code",
   "execution_count": 8,
   "id": "incorporated-software",
   "metadata": {},
   "outputs": [],
   "source": [
    "spectral_components = LA.eigh(Sigma)"
   ]
  },
  {
   "cell_type": "code",
   "execution_count": 9,
   "id": "deluxe-april",
   "metadata": {},
   "outputs": [
    {
     "data": {
      "text/plain": [
       "array([[-0.39303622,  0.        ,  0.        , -0.07431374,  0.91651514],\n",
       "       [ 0.02630509,  0.        ,  0.        ,  0.39913412,  0.91651514],\n",
       "       [ 0.12224371, -0.0806617 , -0.35612782, -0.10827346,  0.91651514],\n",
       "       [ 0.12224371,  0.34874659,  0.10820883, -0.10827346,  0.91651514],\n",
       "       [ 0.12224371, -0.26808489,  0.24791899, -0.10827346,  0.91651514]])"
      ]
     },
     "execution_count": 9,
     "metadata": {},
     "output_type": "execute_result"
    }
   ],
   "source": [
    "p = spectral_components[1]\n",
    "dsqrt = np.diag(np.sqrt(spectral_components[0]))\n",
    "(p @ dsqrt).round(8)"
   ]
  },
  {
   "cell_type": "code",
   "execution_count": 10,
   "id": "desperate-porter",
   "metadata": {},
   "outputs": [
    {
     "data": {
      "text/plain": [
       "array([[1. , 0.8, 0.8, 0.8, 0.8],\n",
       "       [0.8, 1. , 0.8, 0.8, 0.8],\n",
       "       [0.8, 0.8, 1. , 0.8, 0.8],\n",
       "       [0.8, 0.8, 0.8, 1. , 0.8],\n",
       "       [0.8, 0.8, 0.8, 0.8, 1. ]])"
      ]
     },
     "execution_count": 10,
     "metadata": {},
     "output_type": "execute_result"
    }
   ],
   "source": [
    "# We can reconstruct the original as desired \n",
    "p @ dsqrt @ dsqrt @ p.T"
   ]
  },
  {
   "cell_type": "markdown",
   "id": "collaborative-perspective",
   "metadata": {},
   "source": [
    "F) Simulate 10,000 observations iid, $N(0, \\Sigma)$ and calculate the MLE of $\\mu$ and $\\Sigma$. \n",
    "The MLE of $\\mu$ is a vector of $\\bar X_i$. \n",
    "The MLE of $\\Sigma$ is $\\frac{1}{n}\\sum(X_i - \\bar X)(X_i - \\bar X)'$. It is a baised estimator. "
   ]
  },
  {
   "cell_type": "markdown",
   "id": "funky-beverage",
   "metadata": {},
   "source": [
    "We sample this data by drawing from the standard normal and calculating $Y = \\mu + PD^{1/2}Z$"
   ]
  },
  {
   "cell_type": "code",
   "execution_count": 11,
   "id": "champion-marsh",
   "metadata": {},
   "outputs": [
    {
     "data": {
      "text/html": [
       "<div>\n",
       "<style scoped>\n",
       "    .dataframe tbody tr th:only-of-type {\n",
       "        vertical-align: middle;\n",
       "    }\n",
       "\n",
       "    .dataframe tbody tr th {\n",
       "        vertical-align: top;\n",
       "    }\n",
       "\n",
       "    .dataframe thead th {\n",
       "        text-align: right;\n",
       "    }\n",
       "</style>\n",
       "<table border=\"1\" class=\"dataframe\">\n",
       "  <thead>\n",
       "    <tr style=\"text-align: right;\">\n",
       "      <th></th>\n",
       "      <th>0</th>\n",
       "      <th>1</th>\n",
       "      <th>2</th>\n",
       "      <th>3</th>\n",
       "      <th>4</th>\n",
       "    </tr>\n",
       "  </thead>\n",
       "  <tbody>\n",
       "    <tr>\n",
       "      <th>0</th>\n",
       "      <td>-1.102476</td>\n",
       "      <td>-0.942799</td>\n",
       "      <td>-0.584097</td>\n",
       "      <td>-0.203216</td>\n",
       "      <td>-0.811893</td>\n",
       "    </tr>\n",
       "    <tr>\n",
       "      <th>1</th>\n",
       "      <td>-1.232241</td>\n",
       "      <td>-1.120646</td>\n",
       "      <td>-1.199549</td>\n",
       "      <td>-0.196623</td>\n",
       "      <td>-0.267609</td>\n",
       "    </tr>\n",
       "    <tr>\n",
       "      <th>2</th>\n",
       "      <td>0.712678</td>\n",
       "      <td>0.144567</td>\n",
       "      <td>0.864136</td>\n",
       "      <td>1.480039</td>\n",
       "      <td>0.905530</td>\n",
       "    </tr>\n",
       "    <tr>\n",
       "      <th>3</th>\n",
       "      <td>1.626709</td>\n",
       "      <td>1.568230</td>\n",
       "      <td>1.840061</td>\n",
       "      <td>3.011642</td>\n",
       "      <td>2.004144</td>\n",
       "    </tr>\n",
       "    <tr>\n",
       "      <th>4</th>\n",
       "      <td>0.474173</td>\n",
       "      <td>-0.417039</td>\n",
       "      <td>0.016696</td>\n",
       "      <td>0.451411</td>\n",
       "      <td>0.393884</td>\n",
       "    </tr>\n",
       "    <tr>\n",
       "      <th>5</th>\n",
       "      <td>-1.308165</td>\n",
       "      <td>-1.649342</td>\n",
       "      <td>-1.055062</td>\n",
       "      <td>-0.973252</td>\n",
       "      <td>-1.490383</td>\n",
       "    </tr>\n",
       "    <tr>\n",
       "      <th>6</th>\n",
       "      <td>-0.841447</td>\n",
       "      <td>-1.250666</td>\n",
       "      <td>-0.426151</td>\n",
       "      <td>-1.151428</td>\n",
       "      <td>-1.376860</td>\n",
       "    </tr>\n",
       "    <tr>\n",
       "      <th>7</th>\n",
       "      <td>0.175611</td>\n",
       "      <td>-0.152955</td>\n",
       "      <td>-0.018291</td>\n",
       "      <td>-0.787014</td>\n",
       "      <td>-0.508510</td>\n",
       "    </tr>\n",
       "    <tr>\n",
       "      <th>8</th>\n",
       "      <td>0.238109</td>\n",
       "      <td>-0.132276</td>\n",
       "      <td>-0.246740</td>\n",
       "      <td>-0.164845</td>\n",
       "      <td>-0.320828</td>\n",
       "    </tr>\n",
       "    <tr>\n",
       "      <th>9</th>\n",
       "      <td>0.810472</td>\n",
       "      <td>0.140280</td>\n",
       "      <td>1.506519</td>\n",
       "      <td>0.732594</td>\n",
       "      <td>0.358336</td>\n",
       "    </tr>\n",
       "  </tbody>\n",
       "</table>\n",
       "</div>"
      ],
      "text/plain": [
       "          0         1         2         3         4\n",
       "0 -1.102476 -0.942799 -0.584097 -0.203216 -0.811893\n",
       "1 -1.232241 -1.120646 -1.199549 -0.196623 -0.267609\n",
       "2  0.712678  0.144567  0.864136  1.480039  0.905530\n",
       "3  1.626709  1.568230  1.840061  3.011642  2.004144\n",
       "4  0.474173 -0.417039  0.016696  0.451411  0.393884\n",
       "5 -1.308165 -1.649342 -1.055062 -0.973252 -1.490383\n",
       "6 -0.841447 -1.250666 -0.426151 -1.151428 -1.376860\n",
       "7  0.175611 -0.152955 -0.018291 -0.787014 -0.508510\n",
       "8  0.238109 -0.132276 -0.246740 -0.164845 -0.320828\n",
       "9  0.810472  0.140280  1.506519  0.732594  0.358336"
      ]
     },
     "execution_count": 11,
     "metadata": {},
     "output_type": "execute_result"
    }
   ],
   "source": [
    "# Draw from the standard normal and scale\n",
    "simdata = p @ dsqrt @ np.random.normal(size=(5, 10000))\n",
    "df = pd.DataFrame(simdata).T\n",
    "df.head(10)"
   ]
  },
  {
   "cell_type": "code",
   "execution_count": 12,
   "id": "fewer-bathroom",
   "metadata": {},
   "outputs": [
    {
     "data": {
      "text/latex": [
       "$\\displaystyle \\hat\\mu :$"
      ],
      "text/plain": [
       "<IPython.core.display.Math object>"
      ]
     },
     "metadata": {},
     "output_type": "display_data"
    },
    {
     "name": "stdout",
     "output_type": "stream",
     "text": [
      "[-0.00431648 -0.01094634 -0.00568425 -0.0065069  -0.00247858]\n"
     ]
    }
   ],
   "source": [
    "# Calculate Xbar in pandas \n",
    "xbar = df.apply(np.mean, axis=0).values\n",
    "display(Math(r'\\hat\\mu :'))\n",
    "print(xbar)"
   ]
  },
  {
   "cell_type": "code",
   "execution_count": 13,
   "id": "parallel-butler",
   "metadata": {},
   "outputs": [
    {
     "data": {
      "text/latex": [
       "$\\displaystyle \\hat\\Sigma :$"
      ],
      "text/plain": [
       "<IPython.core.display.Math object>"
      ]
     },
     "metadata": {},
     "output_type": "display_data"
    },
    {
     "name": "stdout",
     "output_type": "stream",
     "text": [
      "[[1.00892539 0.81064987 0.82041848 0.80057589 0.81427276]\n",
      " [0.81064987 1.01215018 0.82106022 0.80313899 0.81192297]\n",
      " [0.82041848 0.82106022 1.02710395 0.81752191 0.82201546]\n",
      " [0.80057589 0.80313899 0.81752191 0.9973814  0.80499974]\n",
      " [0.81427276 0.81192297 0.82201546 0.80499974 1.01707412]]\n"
     ]
    }
   ],
   "source": [
    "# Loop-de-loop\n",
    "sighat = np.zeros(Sigma.shape)\n",
    "for idx, row in df.iterrows():\n",
    "    tmp = (row.values-xbar)[:, np.newaxis]\n",
    "    sighat += tmp @ tmp.T\n",
    "sighat /= df.shape[0]\n",
    "display(Math(r'\\hat\\Sigma :'))\n",
    "print(sighat)"
   ]
  },
  {
   "cell_type": "markdown",
   "id": "apparent-function",
   "metadata": {},
   "source": [
    "G) Repeat the above with $n=50$"
   ]
  },
  {
   "cell_type": "code",
   "execution_count": 14,
   "id": "connected-ceiling",
   "metadata": {},
   "outputs": [
    {
     "data": {
      "text/latex": [
       "$\\displaystyle \\hat\\mu :$"
      ],
      "text/plain": [
       "<IPython.core.display.Math object>"
      ]
     },
     "metadata": {},
     "output_type": "display_data"
    },
    {
     "name": "stdout",
     "output_type": "stream",
     "text": [
      "[ 1.18638684e-02 -6.75718939e-05  6.74887331e-02 -9.92814446e-02\n",
      " -5.29071786e-02]\n"
     ]
    },
    {
     "data": {
      "text/latex": [
       "$\\displaystyle \\hat\\Sigma :$"
      ],
      "text/plain": [
       "<IPython.core.display.Math object>"
      ]
     },
     "metadata": {},
     "output_type": "display_data"
    },
    {
     "name": "stdout",
     "output_type": "stream",
     "text": [
      "[[0.98027784 0.83893165 0.65975691 0.77340016 0.77049362]\n",
      " [0.83893165 1.1448301  0.75647427 0.82251806 0.91415416]\n",
      " [0.65975691 0.75647427 0.78247163 0.66751777 0.67575683]\n",
      " [0.77340016 0.82251806 0.66751777 0.96988404 0.75014834]\n",
      " [0.77049362 0.91415416 0.67575683 0.75014834 0.96033438]]\n"
     ]
    }
   ],
   "source": [
    "# Draw from the standard normal and scale\n",
    "simdata1 = p @ dsqrt @ np.random.normal(size=(5, 50))\n",
    "df1 = pd.DataFrame(simdata1).T\n",
    "df1.head(10)\n",
    "# Calculate Xbar in pandas \n",
    "xbar1 = df1.apply(np.mean, axis=0).values\n",
    "display(Math(r'\\hat\\mu :'))\n",
    "print(xbar1)\n",
    "# Loop-de-loop\n",
    "sighat1 = np.zeros(Sigma.shape)\n",
    "for idx, row in df1.iterrows():\n",
    "    tmp = (row.values-xbar1)[:, np.newaxis]\n",
    "    sighat1 += tmp @ tmp.T\n",
    "sighat1 /= df1.shape[0]\n",
    "display(Math(r'\\hat\\Sigma :'))\n",
    "print(sighat1)"
   ]
  },
  {
   "cell_type": "markdown",
   "id": "distant-bibliography",
   "metadata": {},
   "source": [
    "G) The MLE of L is the Cholesky decomposition of the MLE of $\\Sigma$. "
   ]
  },
  {
   "cell_type": "markdown",
   "id": "instant-detroit",
   "metadata": {},
   "source": [
    "Part 2: Write function to evaluate the log-likelihood of MVN. "
   ]
  },
  {
   "cell_type": "code",
   "execution_count": 15,
   "id": "humanitarian-porcelain",
   "metadata": {},
   "outputs": [],
   "source": [
    "def logL(Y, mu, Sigma):\n",
    "    # Check Sigma is positive definite \n",
    "    if not np.all(LA.eigvals(Sig_true) > 0):\n",
    "        return np.nan\n",
    "    cost = np.log(abs(LA.det(Sigma))) * Y.shape[0]\n",
    "    # Use the Mahalanobis distance bulitin to vectorize \n",
    "    Sinv = LA.inv(Sigma)\n",
    "    for i in range(Y.shape[0]):\n",
    "        cost += distance.mahalanobis(Y[i, :], mu, Sinv)**2\n",
    "    # Scale cost and return \n",
    "    cost *= -0.5\n",
    "    return(cost)"
   ]
  },
  {
   "cell_type": "markdown",
   "id": "southern-clearing",
   "metadata": {},
   "source": [
    "Fix arbitrary values for $\\mu$, $\\Sigma$ and test a range of values to maximize logL"
   ]
  },
  {
   "cell_type": "code",
   "execution_count": 16,
   "id": "roman-sudan",
   "metadata": {},
   "outputs": [
    {
     "name": "stdout",
     "output_type": "stream",
     "text": [
      "True\n"
     ]
    }
   ],
   "source": [
    "# True means \n",
    "mu_true = np.array([5, -2])\n",
    "# True Sigma, verify is positive definite \n",
    "Sig_true = np.array([[2, .65],[.65, 1.25]])\n",
    "print(np.all(LA.eigvals(Sig_true) > 0))\n",
    "X = np.random.multivariate_normal(mu_true, Sig_true, 500)"
   ]
  },
  {
   "cell_type": "code",
   "execution_count": 17,
   "id": "advised-oregon",
   "metadata": {},
   "outputs": [],
   "source": [
    "# Builds pd.DataFrame where all values are the true values, except \n",
    "# one column will be a range of values to test \n",
    "class SampleData:\n",
    "    \n",
    "    def __init__(self, target, test_n=1000, mu_true=mu_true, Sig_true=Sig_true):\n",
    "        self.target = target\n",
    "        self.test_n = test_n \n",
    "        self.mu_true = mu_true\n",
    "        self.Sig_true = Sig_true\n",
    "        self.build_target_data()\n",
    "        self.data = self.build_test_data()\n",
    "        \n",
    "    def build_target_data(self):\n",
    "        self.target_data = {\n",
    "        \"mu1\" : np.linspace(2, 7, num=self.test_n),\n",
    "        \"mu2\" : np.linspace(-5, 1, num=self.test_n),\n",
    "        \"sig11\" : np.linspace(0.5, 5, num=self.test_n),\n",
    "        \"sig12\" : np.linspace(-1, 1, num=self.test_n),\n",
    "        \"sig22\" : np.linspace(0.5, 5, num=self.test_n)\n",
    "    }\n",
    "    \n",
    "    def build_test_data(self):\n",
    "        data = {\n",
    "            \"mu1\" : np.repeat(self.mu_true[0], self.test_n),\n",
    "            \"mu2\" : np.repeat(self.mu_true[1], self.test_n),\n",
    "            \"sig11\" : np.repeat(self.Sig_true[0,0], self.test_n),\n",
    "            \"sig12\" : np.repeat(self.Sig_true[0,1], self.test_n),\n",
    "            \"sig22\" : np.repeat(self.Sig_true[1,1], self.test_n)\n",
    "        }\n",
    "        data[self.target] = self.get_target_values()\n",
    "        return(pd.DataFrame(data))\n",
    "        \n",
    "    def get_target_values(self):\n",
    "        try:\n",
    "            data = self.target_data[self.target]\n",
    "            return(data)\n",
    "        except ValueError: \n",
    "            valid = \",\".join(list(self.target_data.keys()))\n",
    "            print(f\"Please select one of the following: {valid}\")\n",
    "            raise"
   ]
  },
  {
   "cell_type": "code",
   "execution_count": 18,
   "id": "asian-bachelor",
   "metadata": {},
   "outputs": [
    {
     "data": {
      "image/png": "[encoded data removed]",
      "text/plain": [
       "<Figure size 432x288 with 1 Axes>"
      ]
     },
     "metadata": {
      "needs_background": "light"
     },
     "output_type": "display_data"
    },
    {
     "data": {
      "image/png": "[encoded data removed]",
      "text/plain": [
       "<Figure size 432x288 with 1 Axes>"
      ]
     },
     "metadata": {
      "needs_background": "light"
     },
     "output_type": "display_data"
    },
    {
     "data": {
      "image/png": "[encoded data removed]",
      "text/plain": [
       "<Figure size 432x288 with 1 Axes>"
      ]
     },
     "metadata": {
      "needs_background": "light"
     },
     "output_type": "display_data"
    },
    {
     "data": {
      "image/png": "[encoded data removed]",
      "text/plain": [
       "<Figure size 432x288 with 1 Axes>"
      ]
     },
     "metadata": {
      "needs_background": "light"
     },
     "output_type": "display_data"
    },
    {
     "data": {
      "image/png": "[encoded data removed]",
      "text/plain": [
       "<Figure size 432x288 with 1 Axes>"
      ]
     },
     "metadata": {
      "needs_background": "light"
     },
     "output_type": "display_data"
    }
   ],
   "source": [
    "for item in [\"mu1\", \"mu2\", \"sig11\", \"sig12\", \"sig22\"]:\n",
    "    tmp = SampleData(item).data\n",
    "    tmp[\"logL\"] = tmp.apply(lambda q: logL(X, q[0:2], np.array([[q[2],q[3]], [q[3], q[4]]])), axis=1)\n",
    "    plt.plot(tmp[item], tmp[\"logL\"])\n",
    "    plt.xlabel(item)\n",
    "    plt.ylabel(\"logL\")\n",
    "    plt.show()"
   ]
  },
  {
   "cell_type": "markdown",
   "id": "global-antarctica",
   "metadata": {},
   "source": [
    "Problem 3: Gaussian Process "
   ]
  },
  {
   "cell_type": "code",
   "execution_count": 19,
   "id": "blocked-paper",
   "metadata": {},
   "outputs": [
    {
     "name": "stdout",
     "output_type": "stream",
     "text": [
      "[76, 77, 78, 79, 80, 81, 82, 83, 84, 85]\n"
     ]
    },
    {
     "data": {
      "text/plain": [
       "<matplotlib.collections.PathCollection at 0x1dcff94cee0>"
      ]
     },
     "execution_count": 19,
     "metadata": {},
     "output_type": "execute_result"
    },
    {
     "data": {
      "image/png": "[encoded data removed]",
      "text/plain": [
       "<Figure size 432x288 with 1 Axes>"
      ]
     },
     "metadata": {
      "needs_background": "light"
     },
     "output_type": "display_data"
    }
   ],
   "source": [
    "# Generate the entire dataset \n",
    "n = 100\n",
    "x = np.linspace(-2, 2, num=n)\n",
    "fx = x**3\n",
    "# Index the known vs uknown data\n",
    "obs = list(range( 75))\n",
    "obs.extend(list(range(86, 100)))\n",
    "y = list(range(76,86))\n",
    "print(y)\n",
    "X = x[obs]\n",
    "# Plot the data\n",
    "plt.scatter(x, fx)\n",
    "plt.scatter(x[y], fx[y])"
   ]
  },
  {
   "cell_type": "code",
   "execution_count": 20,
   "id": "disabled-breath",
   "metadata": {},
   "outputs": [],
   "source": [
    "# test some values of sigf, l\n",
    "l = 0.1\n",
    "sigmaf = 0.1\n",
    "distances = x - x[:, np.newaxis]\n",
    "sigma = sigmaf**2 * np.exp(-(distances**2/l**2/2))"
   ]
  },
  {
   "cell_type": "code",
   "execution_count": 21,
   "id": "stuffed-absolute",
   "metadata": {},
   "outputs": [],
   "source": [
    "# Calculate Y | X \n",
    "sig11 = sigma[obs, :][:, obs]\n",
    "sig22 = sigma[y, :][:, y]\n",
    "sig12 = sigma[obs, :][:, y]\n",
    "sig21 = sig12.T\n",
    "\n",
    "sig11inv = LA.inv(sig11)\n",
    "sigbar = sig22 - LA.multi_dot([sig21, sig11inv, sig12])\n",
    "mubar = sig21 @ sig11inv @ fx[obs]"
   ]
  },
  {
   "cell_type": "code",
   "execution_count": 22,
   "id": "prostate-olympus",
   "metadata": {},
   "outputs": [
    {
     "name": "stdout",
     "output_type": "stream",
     "text": [
      "[1.14793154 1.0992842  0.92641469 0.73076406 0.67872514 0.89508971\n",
      " 1.3777657  1.98497146 2.52840516 2.91899081]\n"
     ]
    }
   ],
   "source": [
    "# Fit yhat \n",
    "yhat_samp = np.random.multivariate_normal(mubar, sigbar, 1000)\n",
    "# Take the posterior mean\n",
    "yhat = np.mean(yhat_samp, axis=0)\n",
    "print(yhat)"
   ]
  },
  {
   "cell_type": "code",
   "execution_count": 23,
   "id": "superior-induction",
   "metadata": {},
   "outputs": [
    {
     "data": {
      "text/plain": [
       "Text(0.5, 1.0, 'Fitted Values')"
      ]
     },
     "execution_count": 23,
     "metadata": {},
     "output_type": "execute_result"
    },
    {
     "data": {
      "image/png": "[encoded data removed]",
      "text/plain": [
       "<Figure size 432x288 with 1 Axes>"
      ]
     },
     "metadata": {
      "needs_background": "light"
     },
     "output_type": "display_data"
    }
   ],
   "source": [
    "plt.scatter(x[obs], fx[obs])\n",
    "plt.scatter(x[y], yhat)\n",
    "plt.title(\"Fitted Values\")"
   ]
  },
  {
   "cell_type": "markdown",
   "id": "professional-bankruptcy",
   "metadata": {},
   "source": [
    "The values (.1, .1) were chosen because many other nearby values resutled in correlation matrices that were not full rank. Larger values resulted in worse fits. \n",
    "\n",
    "$Y | X$ is a good generic approximation of the true values of $Y$"
   ]
  },
  {
   "cell_type": "code",
   "execution_count": null,
   "id": "gross-safety",
   "metadata": {},
   "outputs": [],
   "source": []
  }
 ],
 "metadata": {
  "kernelspec": {
   "display_name": "Python 3",
   "language": "python",
   "name": "python3"
  },
  "language_info": {
   "codemirror_mode": {
    "name": "ipython",
    "version": 3
   },
   "file_extension": ".py",
   "mimetype": "text/x-python",
   "name": "python",
   "nbconvert_exporter": "python",
   "pygments_lexer": "ipython3",
   "version": "3.9.1"
  }
 },
 "nbformat": 4,
 "nbformat_minor": 5
}
