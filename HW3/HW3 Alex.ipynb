{
 "cells": [
  {
   "cell_type": "code",
   "execution_count": 1,
   "id": "seven-addition",
   "metadata": {},
   "outputs": [],
   "source": [
    "import numpy as np\n",
    "from numpy import linalg as LA\n",
    "import pandas as pd \n",
    "from IPython.display import display, Math\n",
    "from scipy.spatial import distance \n",
    "import matplotlib.pyplot as plt\n",
    "%matplotlib inline"
   ]
  },
  {
   "cell_type": "code",
   "execution_count": 2,
   "id": "prepared-equilibrium",
   "metadata": {},
   "outputs": [],
   "source": [
    "# Best practice source:\n",
    "# https://numpy.org/doc/stable/reference/random/generated/numpy.random.seed.html\n",
    "from numpy.random import MT19937\n",
    "from numpy.random import RandomState, SeedSequence\n",
    "rs = RandomState(MT19937(SeedSequence(72730)))"
   ]
  },
  {
   "cell_type": "code",
   "execution_count": 3,
   "id": "entire-pursuit",
   "metadata": {},
   "outputs": [
    {
     "name": "stdout",
     "output_type": "stream",
     "text": [
      "[[1.  0.8 0.8 0.8 0.8]\n",
      " [0.8 1.  0.8 0.8 0.8]\n",
      " [0.8 0.8 1.  0.8 0.8]\n",
      " [0.8 0.8 0.8 1.  0.8]\n",
      " [0.8 0.8 0.8 0.8 1. ]]\n"
     ]
    }
   ],
   "source": [
    "p = 5\n",
    "rho = .8\n",
    "Sigma = np.full((p, p), rho)\n",
    "np.fill_diagonal(Sigma, 1)\n",
    "print(Sigma)"
   ]
  },
  {
   "cell_type": "markdown",
   "id": "alien-fetish",
   "metadata": {},
   "source": [
    "A) The marginal distribution of $(Y_1, Y_2)$ is MVN with $\\mu = (0, 0)'$ and $\\Sigma =$"
   ]
  },
  {
   "cell_type": "code",
   "execution_count": 4,
   "id": "distinct-produce",
   "metadata": {},
   "outputs": [
    {
     "name": "stdout",
     "output_type": "stream",
     "text": [
      "[[1.  0.8]\n",
      " [0.8 1. ]]\n"
     ]
    }
   ],
   "source": [
    "print(Sigma[:2, :2])"
   ]
  },
  {
   "cell_type": "markdown",
   "id": "impressed-gothic",
   "metadata": {},
   "source": [
    "B) The conditional distribution of $(Y_1, Y_2)|Y_3, Y_4, Y_5$ is MVN. We calculate the mean $\\bar\\mu$ and covariance matrix $\\bar\\Sigma$ of this distribution below: "
   ]
  },
  {
   "cell_type": "code",
   "execution_count": 5,
   "id": "experimental-entity",
   "metadata": {},
   "outputs": [
    {
     "data": {
      "text/latex": [
       "$\\displaystyle \\bar\\mu :$"
      ],
      "text/plain": [
       "<IPython.core.display.Math object>"
      ]
     },
     "metadata": {},
     "output_type": "display_data"
    },
    {
     "name": "stdout",
     "output_type": "stream",
     "text": [
      "[-0.22153846 -0.22153846]\n"
     ]
    },
    {
     "data": {
      "text/latex": [
       "$\\displaystyle \\bar\\Sigma :$"
      ],
      "text/plain": [
       "<IPython.core.display.Math object>"
      ]
     },
     "metadata": {},
     "output_type": "display_data"
    },
    {
     "name": "stdout",
     "output_type": "stream",
     "text": [
      "[[0.26153846 0.06153846]\n",
      " [0.06153846 0.26153846]]\n"
     ]
    }
   ],
   "source": [
    "mu1 = np.array([0, 0])\n",
    "mu2 = np.array([0, 0, 0])\n",
    "givens = np.array([0.23, -0.65, -0.3])\n",
    "sig22inv = LA.inv(Sigma[-3:, -3:])\n",
    "mubar = mu1 + LA.multi_dot([Sigma[:2, -3:], sig22inv, givens])\n",
    "display(Math(r'\\bar\\mu :'))\n",
    "print(mubar)\n",
    "sigbar = Sigma[:2, :2] - LA.multi_dot([Sigma[:2, -3:], sig22inv, Sigma[-3:, :2]])\n",
    "display(Math(r'\\bar\\Sigma :'))\n",
    "print(sigbar)"
   ]
  },
  {
   "cell_type": "markdown",
   "id": "three-coordinator",
   "metadata": {},
   "source": [
    "C) The $L$ in $\\Sigma = LL'$ comes from the Cholesky decomposition of $\\Sigma$. It is one varaition on the square root of $\\Sigma$. In this example, $L$ is: "
   ]
  },
  {
   "cell_type": "code",
   "execution_count": 6,
   "id": "advanced-shade",
   "metadata": {},
   "outputs": [
    {
     "name": "stdout",
     "output_type": "stream",
     "text": [
      "[[1.         0.         0.         0.         0.        ]\n",
      " [0.8        0.6        0.         0.         0.        ]\n",
      " [0.8        0.26666667 0.53748385 0.         0.        ]\n",
      " [0.8        0.26666667 0.16537965 0.51140831 0.        ]\n",
      " [0.8        0.26666667 0.16537965 0.12033137 0.49705012]]\n"
     ]
    }
   ],
   "source": [
    "choleskyL = LA.cholesky(Sigma)\n",
    "print(choleskyL)"
   ]
  },
  {
   "cell_type": "markdown",
   "id": "crazy-riding",
   "metadata": {},
   "source": [
    "D) $L^{-1}$ is: "
   ]
  },
  {
   "cell_type": "code",
   "execution_count": 7,
   "id": "fifth-birmingham",
   "metadata": {},
   "outputs": [
    {
     "name": "stdout",
     "output_type": "stream",
     "text": [
      "[[ 1.          0.          0.          0.          0.        ]\n",
      " [-1.33333333  1.66666667  0.          0.          0.        ]\n",
      " [-0.82689823 -0.82689823  1.86052102  0.          0.        ]\n",
      " [-0.60165684 -0.60165684 -0.60165684  1.95538472  0.        ]\n",
      " [-0.47338107 -0.47338107 -0.47338107 -0.47338107  2.01186954]]\n"
     ]
    }
   ],
   "source": [
    "print(LA.inv(choleskyL))"
   ]
  },
  {
   "cell_type": "markdown",
   "id": "informational-creativity",
   "metadata": {},
   "source": [
    "E) The $A$ in $A = PD^{1/2}$ is from the spectral/eigen decomposition of $\\Sigma$. It is another variation on the square root of $\\Sigma$. In this example, A is:"
   ]
  },
  {
   "cell_type": "code",
   "execution_count": 8,
   "id": "stylish-synthesis",
   "metadata": {},
   "outputs": [],
   "source": [
    "spectral_components = LA.eigh(Sigma)"
   ]
  },
  {
   "cell_type": "code",
   "execution_count": 9,
   "id": "macro-judges",
   "metadata": {},
   "outputs": [
    {
     "data": {
      "text/plain": [
       "array([[-0.39303622,  0.        ,  0.        , -0.07431374,  0.91651514],\n",
       "       [ 0.02630509,  0.        ,  0.        ,  0.39913412,  0.91651514],\n",
       "       [ 0.12224371, -0.0806617 , -0.35612782, -0.10827346,  0.91651514],\n",
       "       [ 0.12224371,  0.34874659,  0.10820883, -0.10827346,  0.91651514],\n",
       "       [ 0.12224371, -0.26808489,  0.24791899, -0.10827346,  0.91651514]])"
      ]
     },
     "execution_count": 9,
     "metadata": {},
     "output_type": "execute_result"
    }
   ],
   "source": [
    "p = spectral_components[1]\n",
    "dsqrt = np.diag(np.sqrt(spectral_components[0]))\n",
    "(p @ dsqrt).round(8)"
   ]
  },
  {
   "cell_type": "code",
   "execution_count": 10,
   "id": "naughty-birmingham",
   "metadata": {},
   "outputs": [
    {
     "data": {
      "text/plain": [
       "array([[1. , 0.8, 0.8, 0.8, 0.8],\n",
       "       [0.8, 1. , 0.8, 0.8, 0.8],\n",
       "       [0.8, 0.8, 1. , 0.8, 0.8],\n",
       "       [0.8, 0.8, 0.8, 1. , 0.8],\n",
       "       [0.8, 0.8, 0.8, 0.8, 1. ]])"
      ]
     },
     "execution_count": 10,
     "metadata": {},
     "output_type": "execute_result"
    }
   ],
   "source": [
    "# We can reconstruct the original as desired \n",
    "p @ dsqrt @ dsqrt @ p.T"
   ]
  },
  {
   "cell_type": "markdown",
   "id": "charged-labor",
   "metadata": {},
   "source": [
    "F) Simulate 10,000 observations iid, $N(0, \\Sigma)$ and calculate the MLE of $\\mu$ and $\\Sigma$. \n",
    "The MLE of $\\mu$ is a vector of $\\bar X_i$. \n",
    "The MLE of $\\Sigma$ is $\\frac{1}{n}\\sum(X_i - \\bar X)(X_i - \\bar X)'$. It is a baised estimator. "
   ]
  },
  {
   "cell_type": "markdown",
   "id": "silent-brown",
   "metadata": {},
   "source": [
    "We sample this data by drawing from the standard normal and calculating $Y = \\mu + PD^{1/2}Z$"
   ]
  },
  {
   "cell_type": "code",
   "execution_count": 11,
   "id": "cardiac-stand",
   "metadata": {},
   "outputs": [
    {
     "data": {
      "text/html": [
       "<div>\n",
       "<style scoped>\n",
       "    .dataframe tbody tr th:only-of-type {\n",
       "        vertical-align: middle;\n",
       "    }\n",
       "\n",
       "    .dataframe tbody tr th {\n",
       "        vertical-align: top;\n",
       "    }\n",
       "\n",
       "    .dataframe thead th {\n",
       "        text-align: right;\n",
       "    }\n",
       "</style>\n",
       "<table border=\"1\" class=\"dataframe\">\n",
       "  <thead>\n",
       "    <tr style=\"text-align: right;\">\n",
       "      <th></th>\n",
       "      <th>0</th>\n",
       "      <th>1</th>\n",
       "      <th>2</th>\n",
       "      <th>3</th>\n",
       "      <th>4</th>\n",
       "    </tr>\n",
       "  </thead>\n",
       "  <tbody>\n",
       "    <tr>\n",
       "      <th>0</th>\n",
       "      <td>0.194507</td>\n",
       "      <td>-0.606890</td>\n",
       "      <td>0.176470</td>\n",
       "      <td>-1.087759</td>\n",
       "      <td>-0.515141</td>\n",
       "    </tr>\n",
       "    <tr>\n",
       "      <th>1</th>\n",
       "      <td>0.578737</td>\n",
       "      <td>0.199670</td>\n",
       "      <td>0.395919</td>\n",
       "      <td>-0.014343</td>\n",
       "      <td>-0.625791</td>\n",
       "    </tr>\n",
       "    <tr>\n",
       "      <th>2</th>\n",
       "      <td>-0.221497</td>\n",
       "      <td>0.253363</td>\n",
       "      <td>-0.109596</td>\n",
       "      <td>0.526614</td>\n",
       "      <td>-0.295863</td>\n",
       "    </tr>\n",
       "    <tr>\n",
       "      <th>3</th>\n",
       "      <td>0.784337</td>\n",
       "      <td>0.742107</td>\n",
       "      <td>1.075592</td>\n",
       "      <td>1.454302</td>\n",
       "      <td>1.372609</td>\n",
       "    </tr>\n",
       "    <tr>\n",
       "      <th>4</th>\n",
       "      <td>-0.751715</td>\n",
       "      <td>-0.450782</td>\n",
       "      <td>-0.803568</td>\n",
       "      <td>-1.472787</td>\n",
       "      <td>-1.057527</td>\n",
       "    </tr>\n",
       "    <tr>\n",
       "      <th>5</th>\n",
       "      <td>-1.876924</td>\n",
       "      <td>-1.327432</td>\n",
       "      <td>-0.355233</td>\n",
       "      <td>-1.907918</td>\n",
       "      <td>-0.744109</td>\n",
       "    </tr>\n",
       "    <tr>\n",
       "      <th>6</th>\n",
       "      <td>1.127785</td>\n",
       "      <td>-0.231445</td>\n",
       "      <td>0.351097</td>\n",
       "      <td>0.470698</td>\n",
       "      <td>0.336787</td>\n",
       "    </tr>\n",
       "    <tr>\n",
       "      <th>7</th>\n",
       "      <td>-0.114207</td>\n",
       "      <td>0.731383</td>\n",
       "      <td>0.679120</td>\n",
       "      <td>0.441572</td>\n",
       "      <td>1.214680</td>\n",
       "    </tr>\n",
       "    <tr>\n",
       "      <th>8</th>\n",
       "      <td>0.013644</td>\n",
       "      <td>0.410002</td>\n",
       "      <td>0.770535</td>\n",
       "      <td>0.155117</td>\n",
       "      <td>0.302383</td>\n",
       "    </tr>\n",
       "    <tr>\n",
       "      <th>9</th>\n",
       "      <td>-0.221710</td>\n",
       "      <td>-0.280177</td>\n",
       "      <td>-0.119045</td>\n",
       "      <td>0.088447</td>\n",
       "      <td>-0.801672</td>\n",
       "    </tr>\n",
       "  </tbody>\n",
       "</table>\n",
       "</div>"
      ],
      "text/plain": [
       "          0         1         2         3         4\n",
       "0  0.194507 -0.606890  0.176470 -1.087759 -0.515141\n",
       "1  0.578737  0.199670  0.395919 -0.014343 -0.625791\n",
       "2 -0.221497  0.253363 -0.109596  0.526614 -0.295863\n",
       "3  0.784337  0.742107  1.075592  1.454302  1.372609\n",
       "4 -0.751715 -0.450782 -0.803568 -1.472787 -1.057527\n",
       "5 -1.876924 -1.327432 -0.355233 -1.907918 -0.744109\n",
       "6  1.127785 -0.231445  0.351097  0.470698  0.336787\n",
       "7 -0.114207  0.731383  0.679120  0.441572  1.214680\n",
       "8  0.013644  0.410002  0.770535  0.155117  0.302383\n",
       "9 -0.221710 -0.280177 -0.119045  0.088447 -0.801672"
      ]
     },
     "execution_count": 11,
     "metadata": {},
     "output_type": "execute_result"
    }
   ],
   "source": [
    "# Draw from the standard normal and scale\n",
    "simdata = p @ dsqrt @ np.random.normal(size=(5, 10000))\n",
    "df = pd.DataFrame(simdata).T\n",
    "df.head(10)"
   ]
  },
  {
   "cell_type": "code",
   "execution_count": 12,
   "id": "filled-belly",
   "metadata": {},
   "outputs": [
    {
     "data": {
      "text/latex": [
       "$\\displaystyle \\hat\\mu :$"
      ],
      "text/plain": [
       "<IPython.core.display.Math object>"
      ]
     },
     "metadata": {},
     "output_type": "display_data"
    },
    {
     "name": "stdout",
     "output_type": "stream",
     "text": [
      "[0.01237842 0.00842801 0.00486766 0.00474506 0.00719187]\n"
     ]
    }
   ],
   "source": [
    "# Calculate Xbar in pandas \n",
    "xbar = df.apply(np.mean, axis=0).values\n",
    "display(Math(r'\\hat\\mu :'))\n",
    "print(xbar)"
   ]
  },
  {
   "cell_type": "code",
   "execution_count": 13,
   "id": "funded-security",
   "metadata": {},
   "outputs": [
    {
     "data": {
      "text/latex": [
       "$\\displaystyle \\hat\\Sigma :$"
      ],
      "text/plain": [
       "<IPython.core.display.Math object>"
      ]
     },
     "metadata": {},
     "output_type": "display_data"
    },
    {
     "name": "stdout",
     "output_type": "stream",
     "text": [
      "[[1.03051122 0.83320672 0.829584   0.83699397 0.83297075]\n",
      " [0.83320672 1.02913912 0.82751446 0.83423774 0.83246174]\n",
      " [0.829584   0.82751446 1.0255583  0.83542976 0.82872725]\n",
      " [0.83699397 0.83423774 0.83542976 1.04666139 0.84102752]\n",
      " [0.83297075 0.83246174 0.82872725 0.84102752 1.04253793]]\n"
     ]
    }
   ],
   "source": [
    "# Loop-de-loop\n",
    "sighat = np.zeros(Sigma.shape)\n",
    "for idx, row in df.iterrows():\n",
    "    tmp = (row.values-xbar)[:, np.newaxis]\n",
    "    sighat += tmp @ tmp.T\n",
    "sighat /= df.shape[0]\n",
    "display(Math(r'\\hat\\Sigma :'))\n",
    "print(sighat)"
   ]
  },
  {
   "cell_type": "markdown",
   "id": "endless-liberty",
   "metadata": {},
   "source": [
    "G) Repeat the above with $n=50$"
   ]
  },
  {
   "cell_type": "code",
   "execution_count": 14,
   "id": "composite-interim",
   "metadata": {},
   "outputs": [
    {
     "data": {
      "text/latex": [
       "$\\displaystyle \\hat\\mu :$"
      ],
      "text/plain": [
       "<IPython.core.display.Math object>"
      ]
     },
     "metadata": {},
     "output_type": "display_data"
    },
    {
     "name": "stdout",
     "output_type": "stream",
     "text": [
      "[0.10685611 0.20621629 0.11259098 0.11403999 0.1126731 ]\n"
     ]
    },
    {
     "data": {
      "text/latex": [
       "$\\displaystyle \\hat\\Sigma :$"
      ],
      "text/plain": [
       "<IPython.core.display.Math object>"
      ]
     },
     "metadata": {},
     "output_type": "display_data"
    },
    {
     "name": "stdout",
     "output_type": "stream",
     "text": [
      "[[0.84077475 0.73495219 0.53862276 0.74153233 0.66754285]\n",
      " [0.73495219 0.80476525 0.54879704 0.7278729  0.65249694]\n",
      " [0.53862276 0.54879704 0.65992149 0.58655239 0.53532496]\n",
      " [0.74153233 0.7278729  0.58655239 0.96225316 0.70484177]\n",
      " [0.66754285 0.65249694 0.53532496 0.70484177 0.77125384]]\n"
     ]
    }
   ],
   "source": [
    "# Draw from the standard normal and scale\n",
    "simdata1 = p @ dsqrt @ np.random.normal(size=(5, 50))\n",
    "df1 = pd.DataFrame(simdata1).T\n",
    "df1.head(10)\n",
    "# Calculate Xbar in pandas \n",
    "xbar1 = df1.apply(np.mean, axis=0).values\n",
    "display(Math(r'\\hat\\mu :'))\n",
    "print(xbar1)\n",
    "# Loop-de-loop\n",
    "sighat1 = np.zeros(Sigma.shape)\n",
    "for idx, row in df1.iterrows():\n",
    "    tmp = (row.values-xbar1)[:, np.newaxis]\n",
    "    sighat1 += tmp @ tmp.T\n",
    "sighat1 /= df1.shape[0]\n",
    "display(Math(r'\\hat\\Sigma :'))\n",
    "print(sighat1)"
   ]
  },
  {
   "cell_type": "markdown",
   "id": "approved-beast",
   "metadata": {},
   "source": [
    "G) The MLE of L is the Cholesky decomposition of the MLE of $\\Sigma$. "
   ]
  },
  {
   "cell_type": "markdown",
   "id": "quality-hundred",
   "metadata": {},
   "source": [
    "Part 2: Write function to evaluate the log-likelihood of MVN. "
   ]
  },
  {
   "cell_type": "code",
   "execution_count": 15,
   "id": "imperial-xerox",
   "metadata": {},
   "outputs": [],
   "source": [
    "def logL(Y, mu, Sigma):\n",
    "    # Check Sigma is positive definite \n",
    "    if not np.all(LA.eigvals(Sig_true) > 0):\n",
    "        return np.nan\n",
    "    cost = np.log(abs(LA.det(Sigma))) * Y.shape[0]\n",
    "    # Use the Mahalanobis distance bulitin to vectorize \n",
    "    Sinv = LA.inv(Sigma)\n",
    "    for i in range(Y.shape[0]):\n",
    "        cost += distance.mahalanobis(Y[i, :], mu, Sinv)**2\n",
    "    # Scale cost and return \n",
    "    cost *= -0.5\n",
    "    return(cost)"
   ]
  },
  {
   "cell_type": "markdown",
   "id": "needed-collar",
   "metadata": {},
   "source": [
    "Fix arbitrary values for $\\mu$, $\\Sigma$ and test a range of values to maximize logL"
   ]
  },
  {
   "cell_type": "code",
   "execution_count": 16,
   "id": "economic-pendant",
   "metadata": {},
   "outputs": [
    {
     "name": "stdout",
     "output_type": "stream",
     "text": [
      "True\n"
     ]
    }
   ],
   "source": [
    "# True means \n",
    "mu_true = np.array([5, -2])\n",
    "# True Sigma, verify is positive definite \n",
    "Sig_true = np.array([[2, .65],[.65, 1.25]])\n",
    "print(np.all(LA.eigvals(Sig_true) > 0))\n",
    "X = np.random.multivariate_normal(mu_true, Sig_true, 500)"
   ]
  },
  {
   "cell_type": "code",
   "execution_count": 17,
   "id": "blocked-gibraltar",
   "metadata": {},
   "outputs": [],
   "source": [
    "# Builds pd.DataFrame where all values are the true values, except \n",
    "# one column will be a range of values to test \n",
    "class SampleData:\n",
    "    \n",
    "    def __init__(self, target, test_n=1000, mu_true=mu_true, Sig_true=Sig_true):\n",
    "        self.target = target\n",
    "        self.test_n = test_n \n",
    "        self.mu_true = mu_true\n",
    "        self.Sig_true = Sig_true\n",
    "        self.build_target_data()\n",
    "        self.data = self.build_test_data()\n",
    "        \n",
    "    def build_target_data(self):\n",
    "        self.target_data = {\n",
    "        \"mu1\" : np.linspace(2, 7, num=self.test_n),\n",
    "        \"mu2\" : np.linspace(-5, 1, num=self.test_n),\n",
    "        \"sig11\" : np.linspace(0.5, 5, num=self.test_n),\n",
    "        \"sig12\" : np.linspace(-1, 1, num=self.test_n),\n",
    "        \"sig22\" : np.linspace(0.5, 5, num=self.test_n)\n",
    "    }\n",
    "    \n",
    "    def build_test_data(self):\n",
    "        data = {\n",
    "            \"mu1\" : np.repeat(self.mu_true[0], self.test_n),\n",
    "            \"mu2\" : np.repeat(self.mu_true[1], self.test_n),\n",
    "            \"sig11\" : np.repeat(self.Sig_true[0,0], self.test_n),\n",
    "            \"sig12\" : np.repeat(self.Sig_true[0,1], self.test_n),\n",
    "            \"sig22\" : np.repeat(self.Sig_true[1,1], self.test_n)\n",
    "        }\n",
    "        data[self.target] = self.get_target_values()\n",
    "        return(pd.DataFrame(data))\n",
    "        \n",
    "    def get_target_values(self):\n",
    "        try:\n",
    "            data = self.target_data[self.target]\n",
    "            return(data)\n",
    "        except ValueError: \n",
    "            valid = \",\".join(list(self.target_data.keys()))\n",
    "            print(f\"Please select one of the following: {valid}\")\n",
    "            raise"
   ]
  },
  {
   "cell_type": "code",
   "execution_count": 18,
   "id": "stuck-snake",
   "metadata": {},
   "outputs": [
    {
     "data": {
      "image/png": "[encoded data removed]",
      "text/plain": [
       "<Figure size 432x288 with 1 Axes>"
      ]
     },
     "metadata": {
      "needs_background": "light"
     },
     "output_type": "display_data"
    },
    {
     "data": {
      "image/png": "[encoded data removed]",
      "text/plain": [
       "<Figure size 432x288 with 1 Axes>"
      ]
     },
     "metadata": {
      "needs_background": "light"
     },
     "output_type": "display_data"
    },
    {
     "data": {
      "image/png": "[encoded data removed]",
      "text/plain": [
       "<Figure size 432x288 with 1 Axes>"
      ]
     },
     "metadata": {
      "needs_background": "light"
     },
     "output_type": "display_data"
    },
    {
     "data": {
      "image/png": "[encoded data removed]",
      "text/plain": [
       "<Figure size 432x288 with 1 Axes>"
      ]
     },
     "metadata": {
      "needs_background": "light"
     },
     "output_type": "display_data"
    },
    {
     "data": {
      "image/png": "[encoded data removed]",
      "text/plain": [
       "<Figure size 432x288 with 1 Axes>"
      ]
     },
     "metadata": {
      "needs_background": "light"
     },
     "output_type": "display_data"
    }
   ],
   "source": [
    "for item in [\"mu1\", \"mu2\", \"sig11\", \"sig12\", \"sig22\"]:\n",
    "    tmp = SampleData(item).data\n",
    "    tmp[\"logL\"] = tmp.apply(lambda q: logL(X, q[0:2], np.array([[q[2],q[3]], [q[3], q[4]]])), axis=1)\n",
    "    plt.plot(tmp[item], tmp[\"logL\"])\n",
    "    plt.xlabel(item)\n",
    "    plt.ylabel(\"logL\")\n",
    "    plt.show()"
   ]
  },
  {
   "cell_type": "markdown",
   "id": "affiliated-polymer",
   "metadata": {},
   "source": [
    "Problem 3: Gaussian Process "
   ]
  },
  {
   "cell_type": "code",
   "execution_count": 19,
   "id": "wicked-mainstream",
   "metadata": {},
   "outputs": [
    {
     "name": "stdout",
     "output_type": "stream",
     "text": [
      "[76, 77, 78, 79, 80, 81, 82, 83, 84, 85]\n"
     ]
    },
    {
     "data": {
      "text/plain": [
       "<matplotlib.collections.PathCollection at 0x1f0b7389580>"
      ]
     },
     "execution_count": 19,
     "metadata": {},
     "output_type": "execute_result"
    },
    {
     "data": {
      "image/png": "[encoded data removed]",
      "text/plain": [
       "<Figure size 432x288 with 1 Axes>"
      ]
     },
     "metadata": {
      "needs_background": "light"
     },
     "output_type": "display_data"
    }
   ],
   "source": [
    "# Generate the entire dataset \n",
    "n = 100\n",
    "x = np.linspace(-2, 2, num=n)\n",
    "fx = x**3\n",
    "# Index the known vs uknown data\n",
    "obs = list(range( 75))\n",
    "obs.extend(list(range(86, 100)))\n",
    "y = list(range(76,86))\n",
    "print(y)\n",
    "X = x[obs]\n",
    "# Plot the data\n",
    "plt.scatter(x, fx)\n",
    "plt.scatter(x[y], fx[y])"
   ]
  },
  {
   "cell_type": "code",
   "execution_count": 20,
   "id": "proved-venice",
   "metadata": {},
   "outputs": [],
   "source": [
    "# test some values of sigf, l\n",
    "l = 0.1\n",
    "sigmaf = 0.1\n",
    "distances = x - x[:, np.newaxis]\n",
    "sigma = sigmaf**2 * np.exp(-(distances**2/l**2/2))"
   ]
  },
  {
   "cell_type": "code",
   "execution_count": 21,
   "id": "continuing-sustainability",
   "metadata": {},
   "outputs": [],
   "source": [
    "# Calculate Y | X \n",
    "sig11 = sigma[obs, :][:, obs]\n",
    "sig22 = sigma[y, :][:, y]\n",
    "sig12 = sigma[obs, :][:, y]\n",
    "sig21 = sig12.T\n",
    "\n",
    "sig11inv = LA.inv(sig11)\n",
    "sigbar = sig22 - LA.multi_dot([sig21, sig11inv, sig12])\n",
    "mubar = sig21 @ sig11inv @ fx[obs]"
   ]
  },
  {
   "cell_type": "code",
   "execution_count": 22,
   "id": "fixed-carbon",
   "metadata": {},
   "outputs": [],
   "source": [
    "# Fit yhat \n",
    "yhat = np.random.multivariate_normal(mubar, sigbar)"
   ]
  },
  {
   "cell_type": "code",
   "execution_count": 23,
   "id": "round-conditions",
   "metadata": {},
   "outputs": [
    {
     "data": {
      "text/plain": [
       "Text(0.5, 1.0, 'Fitted Values')"
      ]
     },
     "execution_count": 23,
     "metadata": {},
     "output_type": "execute_result"
    },
    {
     "data": {
      "image/png": "[encoded data removed]",
      "text/plain": [
       "<Figure size 432x288 with 1 Axes>"
      ]
     },
     "metadata": {
      "needs_background": "light"
     },
     "output_type": "display_data"
    }
   ],
   "source": [
    "plt.scatter(x[obs], fx[obs])\n",
    "plt.scatter(x[y], yhat)\n",
    "plt.title(\"Fitted Values\")"
   ]
  },
  {
   "cell_type": "markdown",
   "id": "moderate-daughter",
   "metadata": {},
   "source": [
    "The values (.1, .1) were chosen because many other nearby values resutled in correlation matrices that were not full rank. Larger values resulted in worse fits. \n",
    "\n",
    "$Y | X$ is a good generic approximation of the true values of $Y$"
   ]
  },
  {
   "cell_type": "code",
   "execution_count": null,
   "id": "mediterranean-robert",
   "metadata": {},
   "outputs": [],
   "source": []
  }
 ],
 "metadata": {
  "kernelspec": {
   "display_name": "Python 3",
   "language": "python",
   "name": "python3"
  },
  "language_info": {
   "codemirror_mode": {
    "name": "ipython",
    "version": 3
   },
   "file_extension": ".py",
   "mimetype": "text/x-python",
   "name": "python",
   "nbconvert_exporter": "python",
   "pygments_lexer": "ipython3",
   "version": "3.9.1"
  }
 },
 "nbformat": 4,
 "nbformat_minor": 5
}
